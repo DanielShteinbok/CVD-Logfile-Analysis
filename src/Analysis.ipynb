{
 "cells": [
  {
   "cell_type": "code",
   "execution_count": 1,
   "id": "86b728ae",
   "metadata": {},
   "outputs": [],
   "source": [
    "import plotter"
   ]
  },
  {
   "cell_type": "markdown",
   "id": "e6c772ce",
   "metadata": {},
   "source": [
    "# Module Breakdown:\n",
    "There are two modules I wrote for doing this stuff, `logmanipulator` and `plotter`. The latter uses the former under the hood.\n",
    "\n",
    "`logmanipulator` is most useful in that it provides a thin wrapper around the built-in csv module's `csv.DictReader`. Namely, the `logmanipulator.dictReaderWrapper()` function returns a `DictReader` object, but which was created with the knowledge that the first 8 lines of the logfile csv are unit definitions, and not actually data we are interested in analysing (otherwise, the native csv library produces a mangled `DictReader` object).\n",
    "\n",
    "`plotter` has a function called `processToBigDict()` which reads out an entire csv file (from a provided `DictReader` object) and produces a large dict in the format that pyplot likes (it can be directly passed to the `matplotlib.pyplot.plot()` function as the `data` argument). From there, all you need to do is specify which axes you are interested in plotting.\n",
    "\n",
    "`plotter` has a further function that combines everything into a single call; it takes a list of file names, reads each one, extracts only the axes it's interested in, and then deallocates the memory allocated to the file buffer before plotting this data. This allows you to plot a lot of logs simultaneously without causing your computer to potentially take a while to do this (if the computer has an HDD and you try to plot megabytes worth of logfiles simultaneously by opening them all end then plotting them, the computer may start to swap memory which makes the operation take a while). The downside of this is that you lose freedom in terms of how you plot the logs; however, I am working on giving an option to pass these formatting etc options directly into `plotter.plotLog()`."
   ]
  },
  {
   "cell_type": "markdown",
   "id": "1268eba1",
   "metadata": {},
   "source": [
    "## Observations:\n",
    "`20210825 _CVD_Control_LogFile.csv` has a few weird \"mistake\" lines where the day/month are reversed (search for 8/25), the timestamp includes a PM value, and the date and time are not comma-delimited.\n",
    "### TODO:\n",
    "* discuss this with Sacha and figure out what is going on\n",
    "* allow for plotting of multiple parameters"
   ]
  },
  {
   "cell_type": "markdown",
   "id": "2a85657e",
   "metadata": {},
   "source": [
    "# Analysis Demonstration\n",
    "Here is an example of how to use the plotter. Just put all the paths to the csv files in a list, and run plotLog on the list."
   ]
  },
  {
   "cell_type": "code",
   "execution_count": 2,
   "id": "73dabb03",
   "metadata": {},
   "outputs": [
    {
     "ename": "KeyError",
     "evalue": "'Event #'",
     "output_type": "error",
     "traceback": [
      "\u001b[0;31m---------------------------------------------------------------------------\u001b[0m",
      "\u001b[0;31mKeyError\u001b[0m                                  Traceback (most recent call last)",
      "Input \u001b[0;32mIn [2]\u001b[0m, in \u001b[0;36m<module>\u001b[0;34m\u001b[0m\n\u001b[1;32m      1\u001b[0m \u001b[38;5;66;03m#files = ['../csv-samples/20210827 _CVD_Control_LogFile.csv',\u001b[39;00m\n\u001b[1;32m      2\u001b[0m  \u001b[38;5;66;03m#        '../csv-samples/20210826 _CVD_Control_LogFile.csv',\u001b[39;00m\n\u001b[1;32m      3\u001b[0m  \u001b[38;5;66;03m#        '../csv-samples/20210824 _CVD_Control_LogFile.csv']\u001b[39;00m\n\u001b[1;32m      4\u001b[0m files \u001b[38;5;241m=\u001b[39m [\u001b[38;5;124m\"\u001b[39m\u001b[38;5;124m../csv-samples/20220201_09-54-55_DS009_LargeGrains.csv\u001b[39m\u001b[38;5;124m\"\u001b[39m,\n\u001b[1;32m      5\u001b[0m         \u001b[38;5;124m\"\u001b[39m\u001b[38;5;124m../csv-samples/20220201_11-41-27_DS009_LargeGrains.csv\u001b[39m\u001b[38;5;124m\"\u001b[39m,\n\u001b[1;32m      6\u001b[0m          \u001b[38;5;124m\"\u001b[39m\u001b[38;5;124m../csv-samples/20220202_09-39-23_DS010_LargeGrains.csv\u001b[39m\u001b[38;5;124m\"\u001b[39m,\n\u001b[1;32m      7\u001b[0m          \u001b[38;5;124m\"\u001b[39m\u001b[38;5;124m../csv-samples/20220202_11-33-16_DS010_LargeGrains.csv\u001b[39m\u001b[38;5;124m\"\u001b[39m\n\u001b[1;32m      8\u001b[0m         ]\n\u001b[0;32m----> 9\u001b[0m \u001b[43mplotter\u001b[49m\u001b[38;5;241;43m.\u001b[39;49m\u001b[43mplotLog\u001b[49m\u001b[43m(\u001b[49m\u001b[43mfiles\u001b[49m\u001b[43m)\u001b[49m\n",
      "File \u001b[0;32m~/Infinite Potential/Logfile_Analysis/src/plotter.py:93\u001b[0m, in \u001b[0;36mplotLog\u001b[0;34m(filenames)\u001b[0m\n\u001b[1;32m     91\u001b[0m \u001b[38;5;28;01mfor\u001b[39;00m filename \u001b[38;5;129;01min\u001b[39;00m filenames:\n\u001b[1;32m     92\u001b[0m     \u001b[38;5;28;01mwith\u001b[39;00m \u001b[38;5;28mopen\u001b[39m(filename, encoding\u001b[38;5;241m=\u001b[39m\u001b[38;5;124m\"\u001b[39m\u001b[38;5;124miso-8859-1\u001b[39m\u001b[38;5;124m\"\u001b[39m) \u001b[38;5;28;01mas\u001b[39;00m file:\n\u001b[0;32m---> 93\u001b[0m         plt\u001b[38;5;241m.\u001b[39mplot(\u001b[38;5;124m\"\u001b[39m\u001b[38;5;124mruntime\u001b[39m\u001b[38;5;124m\"\u001b[39m, \u001b[38;5;124m\"\u001b[39m\u001b[38;5;124mA3 (974)\u001b[39m\u001b[38;5;124m\"\u001b[39m, data\u001b[38;5;241m=\u001b[39m\u001b[43mprocessToBigDict\u001b[49m\u001b[43m(\u001b[49m\u001b[43mlogmanipulator\u001b[49m\u001b[38;5;241;43m.\u001b[39;49m\u001b[43mdictReaderWrapper\u001b[49m\u001b[43m(\u001b[49m\u001b[43mfile\u001b[49m\u001b[43m)\u001b[49m\u001b[43m)\u001b[49m, label\u001b[38;5;241m=\u001b[39mfilename)\n\u001b[1;32m     94\u001b[0m plt\u001b[38;5;241m.\u001b[39mlegend()\n\u001b[1;32m     95\u001b[0m plt\u001b[38;5;241m.\u001b[39mshow()\n",
      "File \u001b[0;32m~/Infinite Potential/Logfile_Analysis/src/plotter.py:56\u001b[0m, in \u001b[0;36mprocessToBigDict\u001b[0;34m(dictReader, dateConverter, timeConverter, runtimeCalculator)\u001b[0m\n\u001b[1;32m     51\u001b[0m \u001b[38;5;28;01mfor\u001b[39;00m row \u001b[38;5;129;01min\u001b[39;00m dictReader:\n\u001b[1;32m     52\u001b[0m     \u001b[38;5;28;01mfor\u001b[39;00m key \u001b[38;5;129;01min\u001b[39;00m row:\n\u001b[1;32m     53\u001b[0m         \u001b[38;5;66;03m# for each key in the row, \u001b[39;00m\n\u001b[1;32m     54\u001b[0m         \u001b[38;5;66;03m# append the value accessed by that key in the row \u001b[39;00m\n\u001b[1;32m     55\u001b[0m         \u001b[38;5;66;03m# to the array accessed by that key in the allDataDict\u001b[39;00m\n\u001b[0;32m---> 56\u001b[0m         \u001b[43mallDataDict\u001b[49m\u001b[43m[\u001b[49m\u001b[43mkey\u001b[49m\u001b[43m]\u001b[49m\u001b[38;5;241m.\u001b[39mappend(row[key])\n\u001b[1;32m     58\u001b[0m \u001b[38;5;66;03m# convert Dates to date format via dateConverter\u001b[39;00m\n\u001b[1;32m     59\u001b[0m allDataDict[\u001b[38;5;124m\"\u001b[39m\u001b[38;5;124mDate\u001b[39m\u001b[38;5;124m\"\u001b[39m] \u001b[38;5;241m=\u001b[39m \u001b[38;5;28mlist\u001b[39m(\u001b[38;5;28mmap\u001b[39m(dateConverter, allDataDict[\u001b[38;5;124m\"\u001b[39m\u001b[38;5;124mDate\u001b[39m\u001b[38;5;124m\"\u001b[39m]))\n",
      "\u001b[0;31mKeyError\u001b[0m: 'Event #'"
     ]
    }
   ],
   "source": [
    "#files = ['../csv-samples/20210827 _CVD_Control_LogFile.csv',\n",
    " #        '../csv-samples/20210826 _CVD_Control_LogFile.csv',\n",
    " #        '../csv-samples/20210824 _CVD_Control_LogFile.csv']\n",
    "files = [\"../csv-samples/20220201_09-54-55_DS009_LargeGrains.csv\",\n",
    "        \"../csv-samples/20220201_11-41-27_DS009_LargeGrains.csv\",\n",
    "         \"../csv-samples/20220202_09-39-23_DS010_LargeGrains.csv\",\n",
    "         \"../csv-samples/20220202_11-33-16_DS010_LargeGrains.csv\"\n",
    "        ]\n",
    "plotter.plotLog(files)"
   ]
  },
  {
   "cell_type": "markdown",
   "id": "b43cdbcd",
   "metadata": {},
   "source": [
    "To plot both the pressure and the temperature, run `plotPressureAndTemp` as below. Pressure and temperature are plotted in the same color."
   ]
  },
  {
   "cell_type": "code",
   "execution_count": null,
   "id": "32a846ca",
   "metadata": {},
   "outputs": [],
   "source": [
    "plotter.plotPressureAndTemp(files)"
   ]
  },
  {
   "cell_type": "markdown",
   "id": "e6782149",
   "metadata": {},
   "source": [
    "Alternatively, you can use `logmanipulator` and `plotter` to manipulate the log files, to make it easier for you to plot directly with pyplot if you want to modify formatting etc yourself:"
   ]
  },
  {
   "cell_type": "code",
   "execution_count": null,
   "id": "ca5b7725",
   "metadata": {},
   "outputs": [],
   "source": [
    "import logmanipulator\n",
    "import matplotlib.pyplot as plt\n",
    "\n",
    "with open('../csv-samples/20210827 _CVD_Control_LogFile.csv') as file:\n",
    "    dictReader = logmanipulator.dictReaderWrapper(file)\n",
    "    bigDict = plotter.processToBigDict(dictReader)\n",
    "\n",
    "print(bigDict)"
   ]
  },
  {
   "cell_type": "code",
   "execution_count": null,
   "id": "24145717",
   "metadata": {},
   "outputs": [],
   "source": [
    "fig, pressure = plt.subplots()\n",
    "\n",
    "temperature = pressure.twinx()\n",
    "\n",
    "pressure.plot(bigDict[\"runtime\"], bigDict[\"A3 (974)\"], 'g-')\n",
    "temperature.plot(bigDict[\"runtime\"], bigDict[\"Effective Temperature Oven\"], 'b-')\n",
    "\n",
    "pressure.set_xlabel('Runtime')\n",
    "pressure.set_ylabel('Pressure', color='g')\n",
    "temperature.set_ylabel('Temperature', color='b')\n",
    "plt.show()"
   ]
  },
  {
   "cell_type": "code",
   "execution_count": null,
   "id": "f8eb40b9",
   "metadata": {},
   "outputs": [],
   "source": []
  }
 ],
 "metadata": {
  "kernelspec": {
   "display_name": "venv",
   "language": "python",
   "name": "venv"
  },
  "language_info": {
   "codemirror_mode": {
    "name": "ipython",
    "version": 3
   },
   "file_extension": ".py",
   "mimetype": "text/x-python",
   "name": "python",
   "nbconvert_exporter": "python",
   "pygments_lexer": "ipython3",
   "version": "3.10.1"
  }
 },
 "nbformat": 4,
 "nbformat_minor": 5
}
